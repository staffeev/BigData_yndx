{
 "cells": [
  {
   "cell_type": "code",
   "execution_count": 20,
   "metadata": {},
   "outputs": [],
   "source": [
    "import pandas as pd\n",
    "from scipy.stats import permutation_test\n",
    "import numpy as np"
   ]
  },
  {
   "cell_type": "code",
   "execution_count": 50,
   "metadata": {},
   "outputs": [],
   "source": [
    "df = pd.read_csv(\"exp_arppu.tsv\", sep=\"\\t\")\n",
    "\n",
    "filt = df[df[\"action\"] == \"confirmation\"].groupby(\"userid\").agg({\"value\": \"sum\"}).reset_index()\n",
    "users = filt[filt[\"value\"] > 0][\"userid\"]\n",
    "df2 = df[df[\"userid\"].isin(users)]\n",
    "\n",
    "A = df[df[\"testids\"].str.contains(\"32412\")]\n",
    "B = df[df[\"testids\"].str.contains(\"32413\")]\n",
    "A2 = df2[df2[\"testids\"].str.contains(\"32412\")]\n",
    "B2 = df2[df2[\"testids\"].str.contains(\"32413\")]"
   ]
  },
  {
   "cell_type": "code",
   "execution_count": 51,
   "metadata": {},
   "outputs": [],
   "source": [
    "A_value = A[A[\"action\"] == \"confirmation\"][\"value\"]\n",
    "B_value = B[B[\"action\"] == \"confirmation\"][\"value\"]\n",
    "A2_value = A2[A2[\"action\"] == \"confirmation\"][\"value\"]\n",
    "B2_value = B2[B2[\"action\"] == \"confirmation\"][\"value\"]"
   ]
  },
  {
   "cell_type": "code",
   "execution_count": 86,
   "metadata": {},
   "outputs": [],
   "source": [
    "def ARPU(df):\n",
    "    df2 = df[df[\"action\"] == \"confirmation\"][\"value\"] \n",
    "    return df2.sum() / len(df2)\n",
    "\n",
    "\n",
    "def ARPPU(df):\n",
    "    filt = df[df[\"action\"] == \"confirmation\"].groupby(\"userid\").agg({\"value\": \"sum\"}).reset_index()\n",
    "    users = filt[filt[\"value\"] > 0][\"userid\"]\n",
    "    df2 = df[df[\"userid\"].isin(users)]\n",
    "    df3 = df2[df2[\"action\"] == \"confirmation\"][\"value\"]\n",
    "    print(len(df), len(df3))\n",
    "    return df3.sum() / len(df3)\n",
    "\n",
    "\n",
    "def stats(x, y):\n",
    "    return np.mean(y) - np.mean(x)"
   ]
  },
  {
   "cell_type": "code",
   "execution_count": 87,
   "metadata": {},
   "outputs": [
    {
     "data": {
      "text/plain": [
       "0.004"
      ]
     },
     "execution_count": 87,
     "metadata": {},
     "output_type": "execute_result"
    }
   ],
   "source": [
    "np.random.seed(177)\n",
    "test = permutation_test((A_value, B_value), stats)\n",
    "test.pvalue"
   ]
  },
  {
   "cell_type": "code",
   "execution_count": 88,
   "metadata": {},
   "outputs": [
    {
     "data": {
      "text/plain": [
       "(39883.913043478264, 39883.913043478264)"
      ]
     },
     "execution_count": 88,
     "metadata": {},
     "output_type": "execute_result"
    }
   ],
   "source": [
    "ARPU(A), np.mean(A_value)"
   ]
  },
  {
   "cell_type": "code",
   "execution_count": 89,
   "metadata": {},
   "outputs": [
    {
     "data": {
      "text/plain": [
       "(22282.5, 22282.5)"
      ]
     },
     "execution_count": 89,
     "metadata": {},
     "output_type": "execute_result"
    }
   ],
   "source": [
    "ARPU(B), np.mean(B_value)"
   ]
  },
  {
   "cell_type": "code",
   "execution_count": 90,
   "metadata": {},
   "outputs": [
    {
     "name": "stdout",
     "output_type": "stream",
     "text": [
      "8121 46\n"
     ]
    },
    {
     "data": {
      "text/plain": [
       "(39883.913043478264, 39883.913043478264)"
      ]
     },
     "execution_count": 90,
     "metadata": {},
     "output_type": "execute_result"
    }
   ],
   "source": [
    "ARPPU(A), np.mean(A2_value)"
   ]
  },
  {
   "cell_type": "code",
   "execution_count": 91,
   "metadata": {},
   "outputs": [
    {
     "name": "stdout",
     "output_type": "stream",
     "text": [
      "7569 40\n"
     ]
    },
    {
     "data": {
      "text/plain": [
       "(22282.5, 22282.5)"
      ]
     },
     "execution_count": 91,
     "metadata": {},
     "output_type": "execute_result"
    }
   ],
   "source": [
    "ARPPU(B),np.mean(B2_value)"
   ]
  },
  {
   "cell_type": "code",
   "execution_count": 38,
   "metadata": {},
   "outputs": [
    {
     "data": {
      "text/plain": [
       "0.004"
      ]
     },
     "execution_count": 38,
     "metadata": {},
     "output_type": "execute_result"
    }
   ],
   "source": [
    "np.random.seed(177)\n",
    "test = permutation_test((A2_value, B2_value), stats)\n",
    "test.pvalue"
   ]
  },
  {
   "cell_type": "code",
   "execution_count": null,
   "metadata": {},
   "outputs": [],
   "source": []
  }
 ],
 "metadata": {
  "kernelspec": {
   "display_name": "Python 3",
   "language": "python",
   "name": "python3"
  },
  "language_info": {
   "codemirror_mode": {
    "name": "ipython",
    "version": 3
   },
   "file_extension": ".py",
   "mimetype": "text/x-python",
   "name": "python",
   "nbconvert_exporter": "python",
   "pygments_lexer": "ipython3",
   "version": "3.11.4"
  }
 },
 "nbformat": 4,
 "nbformat_minor": 2
}
