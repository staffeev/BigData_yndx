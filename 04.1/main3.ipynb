{
 "cells": [
  {
   "cell_type": "code",
   "execution_count": 1,
   "metadata": {},
   "outputs": [],
   "source": [
    "import pandas as pd"
   ]
  },
  {
   "cell_type": "code",
   "execution_count": 8,
   "metadata": {},
   "outputs": [],
   "source": [
    "df = pd.read_csv(\"FIFA21_official_data.csv\")\n",
    "df = df[~df[[\"Name\", \"Age\", \"Weight\", \"Height\", \"Overall\"]].isna().any(axis=1)]"
   ]
  },
  {
   "cell_type": "code",
   "execution_count": 28,
   "metadata": {},
   "outputs": [],
   "source": [
    "def conv_feet_to_meters(x):\n",
    "    foot, inch = x.split(\"'\")\n",
    "    return int(foot) * 0.3048 + int(inch) * 0.0254\n",
    "\n",
    "\n",
    "def process(df: pd.DataFrame):\n",
    "    df = df[~df[[\"Name\", \"Age\", \"Weight\", \"Height\", \"Overall\"]].isna().any(axis=1)]\n",
    "    df = df.loc[:, [\"Name\", \"Age\", \"Weight\", \"Height\", \"Overall\"]]\n",
    "    df[\"Height\"] = df[\"Height\"].apply(conv_feet_to_meters)\n",
    "    df[\"Weight\"] = df[\"Weight\"].str.strip(\"lbs\").apply(lambda x: int(x) * 0.45359237)\n",
    "    df[\"BMI\"] = df[\"Weight\"] / (df[\"Height\"] * df[\"Height\"])\n",
    "    k1, k2, k3, k4, k5 = df[\"Age\"].mean(), df[\"Weight\"].mean(), df[\"Height\"].mean(), \\\n",
    "        df[\"Overall\"].mean(), df[\"BMI\"].mean()\n",
    "    df[\"Normality\"] = (\n",
    "        (df[\"Age\"] - k1) ** 2 + (df[\"Weight\"] - k2) ** 2 + (df[\"Height\"] - k3) ** 2 + (\n",
    "            df[\"Overall\"] - k4) ** 2 + (df[\"BMI\"] - k5) ** 2) ** 0.5\n",
    "    res = df.sort_values(\"Normality\").iloc[:3]\n",
    "    return res[[\"Weight\", \"Height\", \"Age\", \"Overall\", \"BMI\", \"Name\", \"Normality\"]]\n"
   ]
  },
  {
   "cell_type": "code",
   "execution_count": 29,
   "metadata": {},
   "outputs": [
    {
     "data": {
      "text/html": [
       "<div>\n",
       "<style scoped>\n",
       "    .dataframe tbody tr th:only-of-type {\n",
       "        vertical-align: middle;\n",
       "    }\n",
       "\n",
       "    .dataframe tbody tr th {\n",
       "        vertical-align: top;\n",
       "    }\n",
       "\n",
       "    .dataframe thead th {\n",
       "        text-align: right;\n",
       "    }\n",
       "</style>\n",
       "<table border=\"1\" class=\"dataframe\">\n",
       "  <thead>\n",
       "    <tr style=\"text-align: right;\">\n",
       "      <th></th>\n",
       "      <th>Name</th>\n",
       "      <th>Age</th>\n",
       "      <th>Weight</th>\n",
       "      <th>Height</th>\n",
       "      <th>Overall</th>\n",
       "      <th>BMI</th>\n",
       "      <th>Normality</th>\n",
       "    </tr>\n",
       "  </thead>\n",
       "  <tbody>\n",
       "    <tr>\n",
       "      <th>540</th>\n",
       "      <td>Manu Trigueros</td>\n",
       "      <td>28</td>\n",
       "      <td>74.829932</td>\n",
       "      <td>1.7780</td>\n",
       "      <td>78</td>\n",
       "      <td>23.670740</td>\n",
       "      <td>0.682257</td>\n",
       "    </tr>\n",
       "    <tr>\n",
       "      <th>576</th>\n",
       "      <td>J. Bořil</td>\n",
       "      <td>29</td>\n",
       "      <td>74.829932</td>\n",
       "      <td>1.7526</td>\n",
       "      <td>78</td>\n",
       "      <td>24.361820</td>\n",
       "      <td>1.421122</td>\n",
       "    </tr>\n",
       "    <tr>\n",
       "      <th>617</th>\n",
       "      <td>D. Cheryshev</td>\n",
       "      <td>29</td>\n",
       "      <td>73.922902</td>\n",
       "      <td>1.7780</td>\n",
       "      <td>77</td>\n",
       "      <td>23.383822</td>\n",
       "      <td>1.465108</td>\n",
       "    </tr>\n",
       "  </tbody>\n",
       "</table>\n",
       "</div>"
      ],
      "text/plain": [
       "                Name  Age     Weight  Height  Overall        BMI  Normality\n",
       "540   Manu Trigueros   28  74.829932  1.7780       78  23.670740   0.682257\n",
       "576         J. Bořil   29  74.829932  1.7526       78  24.361820   1.421122\n",
       "617     D. Cheryshev   29  73.922902  1.7780       77  23.383822   1.465108"
      ]
     },
     "execution_count": 29,
     "metadata": {},
     "output_type": "execute_result"
    }
   ],
   "source": [
    "process(df)"
   ]
  },
  {
   "cell_type": "code",
   "execution_count": 13,
   "metadata": {},
   "outputs": [],
   "source": [
    "def conv_feet_to_meters(x):\n",
    "    foot, inch = x.split(\"'\")\n",
    "    return int(foot) * 0.3048 + int(inch) * 0.0254\n",
    "\n",
    "df[\"Height_m\"] = df[\"Height\"].apply(conv_feet_to_meters)"
   ]
  },
  {
   "cell_type": "code",
   "execution_count": 12,
   "metadata": {},
   "outputs": [],
   "source": [
    "df[\"Weight_kg\"] = df[\"Weight\"].str.strip(\"lbs\").apply(lambda x: int(x) / 2.205)"
   ]
  },
  {
   "cell_type": "code",
   "execution_count": 17,
   "metadata": {},
   "outputs": [],
   "source": [
    "df[\"BMI\"] = df[\"Weight_kg\"] / (df[\"Height_m\"] * df[\"Height_m\"])"
   ]
  },
  {
   "cell_type": "code",
   "execution_count": 19,
   "metadata": {},
   "outputs": [
    {
     "data": {
      "text/plain": [
       "23.230478571474286"
      ]
     },
     "execution_count": 19,
     "metadata": {},
     "output_type": "execute_result"
    }
   ],
   "source": [
    "df[\"BMI\"].mean()"
   ]
  },
  {
   "cell_type": "code",
   "execution_count": null,
   "metadata": {},
   "outputs": [],
   "source": []
  }
 ],
 "metadata": {
  "kernelspec": {
   "display_name": "Python 3",
   "language": "python",
   "name": "python3"
  },
  "language_info": {
   "codemirror_mode": {
    "name": "ipython",
    "version": 3
   },
   "file_extension": ".py",
   "mimetype": "text/x-python",
   "name": "python",
   "nbconvert_exporter": "python",
   "pygments_lexer": "ipython3",
   "version": "3.11.4"
  }
 },
 "nbformat": 4,
 "nbformat_minor": 2
}
