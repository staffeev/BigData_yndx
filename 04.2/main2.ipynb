{
 "cells": [
  {
   "cell_type": "code",
   "execution_count": 15,
   "metadata": {},
   "outputs": [],
   "source": [
    "import pandas as pd\n",
    "from datetime import datetime\n",
    "import numpy as np\n",
    "import re"
   ]
  },
  {
   "cell_type": "code",
   "execution_count": 54,
   "metadata": {},
   "outputs": [],
   "source": [
    "def get_time(s):\n",
    "    if pd.isnull(s):\n",
    "        return None\n",
    "    pat = re.findall(\"\\D\\d+:\\d{2}\", s)\n",
    "    if not pat:\n",
    "        return None\n",
    "    num = pat[0][1:]\n",
    "    return num.rjust(5, \"0\")\n",
    "\n",
    "\n",
    "def process(df):\n",
    "    df = df[~df[\"Time\"].isna()]\n",
    "    df[\"Time\"] = (\" \" + df[\"Time\"]).apply(get_time)\n",
    "    df[\"DT\"] = pd.to_datetime(df[\"Time\"], format=\"%H:%M\")\n",
    "    m1 = datetime(1900, 1, 1,  8, 0, 0)\n",
    "    m2 = datetime(1900, 1, 1, 10, 0, 0)\n",
    "    e1 = datetime(1900, 1, 1, 20, 0, 0)\n",
    "    e2 = datetime(1900, 1, 1, 22, 0, 0)\n",
    "    morn = df[(m1 <= df[\"DT\"]) & (df[\"DT\"] <= m2)]\n",
    "    ev = df[(e1 <= df[\"DT\"]) & (df[\"DT\"] <= e2)]\n",
    "    return morn[\"Fatalities\"].sum() / ev[\"Fatalities\"].sum()"
   ]
  },
  {
   "cell_type": "code",
   "execution_count": 55,
   "metadata": {},
   "outputs": [
    {
     "name": "stdout",
     "output_type": "stream",
     "text": [
      "<class 'pandas.core.frame.DataFrame'>\n",
      "RangeIndex: 2015 entries, 0 to 2014\n",
      "Data columns (total 13 columns):\n",
      " #   Column        Non-Null Count  Dtype  \n",
      "---  ------        --------------  -----  \n",
      " 0   Date          2015 non-null   object \n",
      " 1   Time          886 non-null    object \n",
      " 2   Location      2003 non-null   object \n",
      " 3   Operator      2003 non-null   object \n",
      " 4   Flight #      330 non-null    object \n",
      " 5   Route         1162 non-null   object \n",
      " 6   Type          1992 non-null   object \n",
      " 7   Registration  1820 non-null   object \n",
      " 8   cn/In         1372 non-null   object \n",
      " 9   Aboard        1998 non-null   float64\n",
      " 10  Fatalities    2003 non-null   float64\n",
      " 11  Ground        1995 non-null   float64\n",
      " 12  Summary       1729 non-null   object \n",
      "dtypes: float64(3), object(10)\n",
      "memory usage: 204.8+ KB\n"
     ]
    }
   ],
   "source": [
    "df = pd.read_csv(\"airplane_crushes.csv\")\n",
    "# df[\"Time\"] = df[\"Time\"].str.rjust(5, \"0\")\n",
    "df.info()\n"
   ]
  },
  {
   "cell_type": "code",
   "execution_count": 56,
   "metadata": {},
   "outputs": [
    {
     "name": "stderr",
     "output_type": "stream",
     "text": [
      "C:\\Users\\Thunderobot\\AppData\\Local\\Temp\\ipykernel_17580\\101919953.py:13: SettingWithCopyWarning: \n",
      "A value is trying to be set on a copy of a slice from a DataFrame.\n",
      "Try using .loc[row_indexer,col_indexer] = value instead\n",
      "\n",
      "See the caveats in the documentation: https://pandas.pydata.org/pandas-docs/stable/user_guide/indexing.html#returning-a-view-versus-a-copy\n",
      "  df[\"Time\"] = (\" \" + df[\"Time\"]).apply(get_time)\n",
      "C:\\Users\\Thunderobot\\AppData\\Local\\Temp\\ipykernel_17580\\101919953.py:14: SettingWithCopyWarning: \n",
      "A value is trying to be set on a copy of a slice from a DataFrame.\n",
      "Try using .loc[row_indexer,col_indexer] = value instead\n",
      "\n",
      "See the caveats in the documentation: https://pandas.pydata.org/pandas-docs/stable/user_guide/indexing.html#returning-a-view-versus-a-copy\n",
      "  df[\"DT\"] = pd.to_datetime(df[\"Time\"], format=\"%H:%M\")\n"
     ]
    },
    {
     "data": {
      "text/plain": [
       "0.890452876376989"
      ]
     },
     "execution_count": 56,
     "metadata": {},
     "output_type": "execute_result"
    }
   ],
   "source": [
    "process(df)"
   ]
  },
  {
   "cell_type": "code",
   "execution_count": null,
   "metadata": {},
   "outputs": [],
   "source": []
  }
 ],
 "metadata": {
  "kernelspec": {
   "display_name": "Python 3",
   "language": "python",
   "name": "python3"
  },
  "language_info": {
   "codemirror_mode": {
    "name": "ipython",
    "version": 3
   },
   "file_extension": ".py",
   "mimetype": "text/x-python",
   "name": "python",
   "nbconvert_exporter": "python",
   "pygments_lexer": "ipython3",
   "version": "3.11.4"
  }
 },
 "nbformat": 4,
 "nbformat_minor": 2
}
